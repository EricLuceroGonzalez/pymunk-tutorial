{
 "cells": [
  {
   "cell_type": "markdown",
   "metadata": {},
   "source": [
    "## Creación de `DataFrame` con datos remotos\n",
    "- Podemos utilizar repositorios en la web para analizar datos remotos, importando sus datos.\\\n",
    "- La forma mas común es utilizando el formato `csv`\n",
    "- Vamos a utilizar datos de:\n",
    "  1. **COVID19**: Center for Systems Science and Engineering (CSSE) at Johns Hopkins University\n",
    "  2. **USGS**: United States Geological Survey\n",
    "  3. **Placas tectónicas**\n",
    "\n",
    "**Documentación:**\\\n",
    "[🌍 COVID-19](https://github.com/CSSEGISandData/COVID-19)\\\n",
    "[🌍 USGS](https://earthquake.usgs.gov/earthquakes/feed/v1.0/csv.php)\\\n",
    "[🌍 Placas tectónicas](https://github.com/fraxen/tectonicplates)"
   ]
  },
  {
   "cell_type": "markdown",
   "metadata": {},
   "source": [
    "## Importación de librerías"
   ]
  },
  {
   "cell_type": "code",
   "execution_count": 1,
   "metadata": {},
   "outputs": [],
   "source": [
    "# Para manipular dirección de carpetas y archivos\n",
    "import requests\n",
    "import io\n",
    "import pathlib\n",
    "\n",
    "import pandas as pd # análisis y manipulación de datos.\n",
    "import folium # visualizar datos geoespaciales\n"
   ]
  }
 ],
 "metadata": {
  "kernelspec": {
   "display_name": "Python 3",
   "language": "python",
   "name": "python3"
  },
  "language_info": {
   "codemirror_mode": {
    "name": "ipython",
    "version": 3
   },
   "file_extension": ".py",
   "mimetype": "text/x-python",
   "name": "python",
   "nbconvert_exporter": "python",
   "pygments_lexer": "ipython3",
   "version": "3.12.0"
  }
 },
 "nbformat": 4,
 "nbformat_minor": 2
}
