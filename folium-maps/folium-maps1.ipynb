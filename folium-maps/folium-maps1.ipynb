{
 "cells": [
  {
   "cell_type": "markdown",
   "metadata": {},
   "source": [
    "# Repaso de DataFrames"
   ]
  },
  {
   "cell_type": "code",
   "execution_count": null,
   "metadata": {},
   "outputs": [],
   "source": [
    "import pandas as pd\n",
    "import numpy as np"
   ]
  },
  {
   "cell_type": "markdown",
   "metadata": {},
   "source": [
    "##### Definimos un DataFrame con dos columnas"
   ]
  },
  {
   "cell_type": "code",
   "execution_count": null,
   "metadata": {},
   "outputs": [],
   "source": [
    "data = {\n",
    "    'Nombre': ['Pedro', 'María', 'Juan', 'Ana', 'Lily','Andy', 'Roberto'],\n",
    "    'Edad': [25, 30, 22, 35,17,15,30],\n",
    "    'Puntuación': [85, 90, 88, 78,100,25,10]\n",
    "}\n",
    "df = pd.DataFrame(data)"
   ]
  },
  {
   "cell_type": "markdown",
   "metadata": {},
   "source": [
    "Verificamos el tipo de dato de estas dos variables creadas con `type()`"
   ]
  },
  {
   "cell_type": "code",
   "execution_count": null,
   "metadata": {},
   "outputs": [],
   "source": [
    "print('Tipo de datos de la variable data',type(data))\n",
    "print('Tipo de datos de la variable df',type(df))"
   ]
  },
  {
   "cell_type": "markdown",
   "metadata": {},
   "source": [
    "#### Imprimimos el dataframe"
   ]
  },
  {
   "cell_type": "code",
   "execution_count": null,
   "metadata": {},
   "outputs": [],
   "source": [
    "display(df) # Solo para Jupyter Notebook en Standalone usar print()\n",
    "df.empty"
   ]
  },
  {
   "cell_type": "markdown",
   "metadata": {},
   "source": [
    "## Podemos explorar los atributos de DataFrame\n",
    "DataFrame tiene cientos de atributos y funciones que nos permiten manipular y analizar datos   \\\n",
    "📚[Documentación de la librería pandas.Dataframe](https://pandas.pydata.org/docs/reference/api/pandas.DataFrame.html)"
   ]
  },
  {
   "cell_type": "code",
   "execution_count": null,
   "metadata": {},
   "outputs": [],
   "source": [
    "print(df.size)"
   ]
  },
  {
   "cell_type": "code",
   "execution_count": null,
   "metadata": {},
   "outputs": [],
   "source": [
    "print(df.empty)"
   ]
  },
  {
   "cell_type": "code",
   "execution_count": null,
   "metadata": {},
   "outputs": [],
   "source": [
    "print(df.count())"
   ]
  },
  {
   "cell_type": "code",
   "execution_count": null,
   "metadata": {},
   "outputs": [],
   "source": [
    "display(df.head(0))"
   ]
  },
  {
   "cell_type": "code",
   "execution_count": null,
   "metadata": {},
   "outputs": [],
   "source": [
    "print(df.columns)"
   ]
  },
  {
   "cell_type": "code",
   "execution_count": null,
   "metadata": {},
   "outputs": [],
   "source": [
    "df.shape"
   ]
  },
  {
   "cell_type": "code",
   "execution_count": null,
   "metadata": {},
   "outputs": [],
   "source": [
    "df.describe() # Estadística descriptiva de cada columna"
   ]
  },
  {
   "cell_type": "code",
   "execution_count": null,
   "metadata": {},
   "outputs": [],
   "source": [
    "len(df)"
   ]
  },
  {
   "cell_type": "markdown",
   "metadata": {},
   "source": [
    "#### Podemos acceder a cada `Serie` dentro del `DataFrame`"
   ]
  },
  {
   "cell_type": "code",
   "execution_count": null,
   "metadata": {},
   "outputs": [],
   "source": [
    "print(df['Nombre'])\n",
    "print('------   ------   ------   ------   ')\n",
    "print(df['Edad'])\n",
    "print('------   ------   ------   ------   ')\n",
    "print(df['Puntuación'])"
   ]
  },
  {
   "cell_type": "markdown",
   "metadata": {},
   "source": [
    "Para saber el tipo de dato que tenemos usamos la función `type()`"
   ]
  },
  {
   "cell_type": "code",
   "execution_count": null,
   "metadata": {},
   "outputs": [],
   "source": [
    "print(type(df['Puntuación']))"
   ]
  },
  {
   "cell_type": "code",
   "execution_count": null,
   "metadata": {},
   "outputs": [],
   "source": [
    "print(type(df))"
   ]
  },
  {
   "cell_type": "markdown",
   "metadata": {},
   "source": [
    "### Filtrar un DataFrame\n",
    "Podemos filtrar un dataframe de muchas maneras. Una función muy util es `sort_values()`\\\n",
    "📚[Ver documentación](https://pandas.pydata.org/docs/reference/api/pandas.DataFrame.sort_values.html)"
   ]
  },
  {
   "cell_type": "markdown",
   "metadata": {},
   "source": [
    "Podemos ordenar los valores con la función `sort_values()` de forma ascendente o descendente"
   ]
  },
  {
   "cell_type": "code",
   "execution_count": null,
   "metadata": {},
   "outputs": [],
   "source": [
    "# Creamos una nueva variable y le asignamos el nombre df_sorted_puntos\n",
    "df_sorted_puntos = df.sort_values(by='Puntuación', ascending=False)\n",
    "display(df)\n",
    "print('**************************************')\n",
    "display(df_sorted_puntos)"
   ]
  },
  {
   "cell_type": "code",
   "execution_count": null,
   "metadata": {},
   "outputs": [],
   "source": [
    "# Creamos una nueva variable y le asignamos el nombre df_sorted_edad\n",
    "df_sorted_edad = df.sort_values(by='Edad', ascending=False)\n",
    "display(df_sorted_edad)"
   ]
  },
  {
   "cell_type": "markdown",
   "metadata": {},
   "source": [
    "### Función `iloc[]`\n",
    "La función `iloc[]` se utiliza para acceder a un grupo de filas y columnas por índices\\\n",
    "📚[Documentación de iloc](https://pandas.pydata.org/docs/reference/api/pandas.DataFrame.iloc.html#pandas.DataFrame.iloc)"
   ]
  },
  {
   "cell_type": "code",
   "execution_count": null,
   "metadata": {},
   "outputs": [],
   "source": [
    "primer_valor_puntuacion = df_sorted_puntos['Puntuación'].iloc[0]\n",
    "segundo_valor_puntuacion = df_sorted_puntos['Puntuación'].iloc[1]\n",
    "\n",
    "ultimo_valor_puntuacion = df_sorted_puntos['Puntuación'].iloc[len(df_sorted_puntos)-1]\n",
    "print(\"\\nPrimer valor de la columna 'Puntuación':\", primer_valor_puntuacion)\n",
    "print(\"Segundo valor de la columna 'Puntuación':\", segundo_valor_puntuacion)\n",
    "print(\"Ultimo valor de la columna 'Puntuación':\", ultimo_valor_puntuacion)\n",
    "\n",
    "print(len(df_sorted_puntos)) # Length)"
   ]
  },
  {
   "cell_type": "code",
   "execution_count": null,
   "metadata": {},
   "outputs": [],
   "source": [
    "primer_valor_edad = df_sorted_edad['Edad'].iloc[0]\n",
    "# primer_valor_edad = df_sorted_edad['Edad'].iloc[len(df_sorted_edad)-1]\n",
    "print(\"\\nPrimer valor de la columna 'Edad':\", primer_valor_edad)"
   ]
  },
  {
   "cell_type": "markdown",
   "metadata": {},
   "source": [
    "## Crear y leer archivos `csv`\n",
    "El formato `csv` es uno de los mas utilizados, como veremos mas adelante, para representar **datos tabulares**   \n",
    "\n",
    "📚[to_csv](https://pandas.pydata.org/docs/reference/api/pandas.DataFrame.to_csv.html)\\\n",
    "📚[read_csv](https://pandas.pydata.org/docs/reference/api/pandas.read_csv.html)\n"
   ]
  },
  {
   "cell_type": "markdown",
   "metadata": {},
   "source": [
    "### Creacion de un archivo `csv` a partir del dataFrame `df`"
   ]
  },
  {
   "cell_type": "code",
   "execution_count": null,
   "metadata": {},
   "outputs": [],
   "source": [
    "df.to_csv('df_original2.csv', index=False)"
   ]
  },
  {
   "cell_type": "markdown",
   "metadata": {},
   "source": [
    "### Lectura de un archivo `csv`\n",
    "El siguiente código funciona para un archivo que esta en la misma carpeta que el modulo que estamos corriendo."
   ]
  },
  {
   "cell_type": "code",
   "execution_count": null,
   "metadata": {},
   "outputs": [],
   "source": [
    "# Creamos una nueva variable:\n",
    "df_from_csv = pd.read_csv('df_original2.csv')\n",
    "\n",
    "# Lo mostramos en pantalla\n",
    "display(df_from_csv)"
   ]
  }
 ],
 "metadata": {
  "kernelspec": {
   "display_name": "Python 3",
   "language": "python",
   "name": "python3"
  },
  "language_info": {
   "codemirror_mode": {
    "name": "ipython",
    "version": 3
   },
   "file_extension": ".py",
   "mimetype": "text/x-python",
   "name": "python",
   "nbconvert_exporter": "python",
   "pygments_lexer": "ipython3",
   "version": "3.12.0"
  }
 },
 "nbformat": 4,
 "nbformat_minor": 2
}
