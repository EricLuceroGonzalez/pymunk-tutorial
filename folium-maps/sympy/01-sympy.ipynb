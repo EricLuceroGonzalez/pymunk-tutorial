{
 "cells": [
  {
   "cell_type": "markdown",
   "metadata": {
    "slideshow": {
     "slide_type": "slide"
    }
   },
   "source": [
    "## SymPy\n",
    "El paquete de Python SymPy puede resolver de manera simbólica ecuaciones, ecuaciones diferenciales, ecuaciones lineales, ecuaciones no lineales, problemas de matrices, desigualdades, ecuaciones diofánticas y evaluar integrales. SymPy también puede resolver numéricamente.\n",
    "\n",
    "SymPy es una biblioteca de Python que se utiliza para realizar cálculos simbólicos. A diferencia de la mayoría de las bibliotecas de Python que realizan cálculos numéricos, SymPy se centra en manipulaciones simbólicas\n",
    "📚(Documentación de SymPy)(https://docs.sympy.org/latest/guides/solving/index.html)"
   ]
  },
  {
   "cell_type": "markdown",
   "metadata": {},
   "source": [
    "## SymPy\n",
    "El paquete de Python SymPy puede resolver de manera simbólica ecuaciones, ecuaciones diferenciales, ecuaciones lineales, ecuaciones no lineales, problemas de matrices, desigualdades, ecuaciones diofánticas y evaluar integrales. SymPy también puede resolver numéricamente.\n",
    "\n",
    "SymPy es una biblioteca de Python que se utiliza para realizar cálculos simbólicos. A diferencia de la mayoría de las bibliotecas de Python que realizan cálculos numéricos, SymPy se centra en manipulaciones simbólicas\n",
    "📚(Documentación de SymPy)(https://docs.sympy.org/latest/guides/solving/index.html)"
   ]
  },
  {
   "cell_type": "code",
   "execution_count": 2,
   "metadata": {},
   "outputs": [],
   "source": [
    "import sympy as smp\n",
    "from sympy import *"
   ]
  },
  {
   "cell_type": "code",
   "execution_count": 3,
   "metadata": {},
   "outputs": [],
   "source": [
    "x, y = smp.symbols('x y')"
   ]
  },
  {
   "cell_type": "markdown",
   "metadata": {},
   "source": [
    "Limits"
   ]
  },
  {
   "cell_type": "markdown",
   "metadata": {},
   "source": [
    "$$\\lim_{x \\to \\pi} \\sin\\left(\\frac{x}{2}+ \\sin(x)\\right)$$"
   ]
  },
  {
   "cell_type": "code",
   "execution_count": 4,
   "metadata": {},
   "outputs": [
    {
     "data": {
      "text/latex": [
       "$\\displaystyle 1$"
      ],
      "text/plain": [
       "1"
      ]
     },
     "execution_count": 4,
     "metadata": {},
     "output_type": "execute_result"
    }
   ],
   "source": [
    "smp.limit(smp.sin(x/2 + smp.sin(x)), x, smp.pi)"
   ]
  },
  {
   "cell_type": "markdown",
   "metadata": {},
   "source": [
    "$$ \\lim_{x \\to 0^+} \\frac{2e^{1/x}}{e^{1/x}+1} $$"
   ]
  },
  {
   "cell_type": "code",
   "execution_count": 5,
   "metadata": {},
   "outputs": [
    {
     "data": {
      "text/latex": [
       "$\\displaystyle 2$"
      ],
      "text/plain": [
       "2"
      ]
     },
     "execution_count": 5,
     "metadata": {},
     "output_type": "execute_result"
    }
   ],
   "source": [
    "smp.limit(2*smp.exp(1/x) / (smp.exp(1/x)+1), x, 0, dir='+')"
   ]
  },
  {
   "cell_type": "code",
   "execution_count": 6,
   "metadata": {},
   "outputs": [
    {
     "data": {
      "text/latex": [
       "$\\displaystyle 0$"
      ],
      "text/plain": [
       "0"
      ]
     },
     "execution_count": 6,
     "metadata": {},
     "output_type": "execute_result"
    }
   ],
   "source": [
    "smp.limit(2*smp.exp(1/x) / (smp.exp(1/x)+1), x, 0, dir='-')"
   ]
  },
  {
   "cell_type": "code",
   "execution_count": 7,
   "metadata": {},
   "outputs": [
    {
     "data": {
      "text/latex": [
       "$\\displaystyle 0$"
      ],
      "text/plain": [
       "0"
      ]
     },
     "execution_count": 7,
     "metadata": {},
     "output_type": "execute_result"
    }
   ],
   "source": [
    "smp.limit((smp.cos(x) - 1)/x, x, smp.oo)"
   ]
  },
  {
   "cell_type": "markdown",
   "metadata": {},
   "source": [
    "## Derivadas"
   ]
  }
 ],
 "metadata": {
  "kernelspec": {
   "display_name": "Python 3",
   "language": "python",
   "name": "python3"
  },
  "language_info": {
   "codemirror_mode": {
    "name": "ipython",
    "version": 3
   },
   "file_extension": ".py",
   "mimetype": "text/x-python",
   "name": "python",
   "nbconvert_exporter": "python",
   "pygments_lexer": "ipython3",
   "version": "3.12.0"
  }
 },
 "nbformat": 4,
 "nbformat_minor": 2
}
